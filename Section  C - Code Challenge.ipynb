{
 "cells": [
  {
   "cell_type": "code",
   "execution_count": 4,
   "id": "14f17fc6-73ff-4829-8d13-5aa8f67c5256",
   "metadata": {},
   "outputs": [],
   "source": [
    "import numpy as np"
   ]
  },
  {
   "cell_type": "code",
   "execution_count": 26,
   "id": "7b66f00b-8702-47da-b59c-dd103c71266e",
   "metadata": {},
   "outputs": [],
   "source": [
    "def isbn13(uniqueID):\n",
    "    # Record the length of the ISBN\n",
    "    uniqueID_len = len(uniqueID)\n",
    "    # Initialize the list to store separated characters of the ISBN\n",
    "    splt_String = []\n",
    "    # Initialize the list used to varify the ISBN-10 digits\n",
    "    Varif_10_List = [10,9,8,7,6,5,4,3,2,1]\n",
    "    # Initialize the list used to varify the ISBN-13 digits\n",
    "    Varif_13_List = [1,3,1,3,1,3,1,3,1,3,1,3,1]\n",
    "    # Initialize the variable to store the sum of products for the varification process\n",
    "    sum_of_products = 0\n",
    "   \n",
    "    # This is a nested outer if-statement that checks whether the ISBN has an appropriate lenght or not, and then act accordingly \n",
    "    if uniqueID_len==10 or uniqueID_len==13 :\n",
    "        # This inner if-statement is executed if we are dealing with an ISBN-10\n",
    "        if uniqueID_len==10:\n",
    "            for i in uniqueID:\n",
    "                splt_String.append(i) # In this for loop we store separated characters of the ISBN\n",
    "            \n",
    "            int_splt_String = list(map(int, splt_String)) # This new list stores separated characters of the ISBN that are converted to integers\n",
    "            \n",
    "            # Here we convert the following lists passed as arguments into arrays\n",
    "            int_splt_String_Array = np.array(int_splt_String) \n",
    "            Varif_10_Array = np.array(Varif_10_List)\n",
    "            \n",
    "            # Here we perform element-wise multiplication using the abave numpy arrays \n",
    "            products_of_arrays = int_splt_String_Array * Varif_10_Array\n",
    "            \n",
    "            # Here we sum up the elements of this numpy array\n",
    "            sum_of_products = products_of_arrays.sum()   \n",
    "            \n",
    "\n",
    "\n",
    "\n",
    "            # This part of the if-statement is the varification of the ISBN-10\n",
    "            if sum_of_products%11==0:\n",
    "                # From here we begin the process of converting and ISBN-10 into an ISBN-13 \n",
    "                new_splt_String = []  # \n",
    "                new_isbn = \"978\" + uniqueID\n",
    "                \n",
    "                for i in new_isbn:\n",
    "                    new_splt_String.append(i)\n",
    "                    \n",
    "                int_new_splt_String = list(map(int, new_splt_String))\n",
    "                int_new_splt_String_Array = np.array(int_new_splt_String)\n",
    "                Varif_13_Array = np.array(Varif_13_List)\n",
    "                new_products_of_arrays = int_new_splt_String_Array*Varif_13_Array\n",
    "                \n",
    "                # At this point, we manipulate the last digit of a newly formed ISBN-13, to make it a valid ISBN-13\n",
    "                Updt_Prod_Arr = np.delete(int_new_splt_String_Array, -1)\n",
    "                \n",
    "                arrSum = 0\n",
    "                temp = np.array([])\n",
    "                for a in range(10):\n",
    "                    temp = np.append(Updt_Prod_Arr,a)\n",
    "                    arrSum = temp.sum()\n",
    "            \n",
    "                    if arrSum%10==0:\n",
    "                        break\n",
    "                    else:\n",
    "                        refreshArr = np.delete(Updt_Prod_Arr, -1)\n",
    "                        \n",
    "                newString = \" \".join(map(str,temp))\n",
    "                # Finally, we return a newly formed ISBN-13\n",
    "                return newString.replace(\" \", \"\") \n",
    "            \n",
    "            # This else part of the if-statement is executed if the given ISBN-10 is invalid\n",
    "            else:\n",
    "                return \"Invalid\"\n",
    "\n",
    "          \n",
    "        # This else part of the inner if-statement is executed if we are dealing with an ISBN-13\n",
    "        else:\n",
    "            for i in uniqueID:\n",
    "                splt_String.append(i) # In this for loop we store separated characters of the ISBN\n",
    "            \n",
    "            int_splt_String = list(map(int, splt_String)) # This new list stores separated characters of the ISBN that are converted to integers\n",
    "            # Here we convert the following lists passed as arguments into arrays\n",
    "            int_splt_String_Array = np.array(int_splt_String)\n",
    "            Varif_13_Array = np.array(Varif_13_List)\n",
    "            \n",
    "            # Here we perform element-wise multiplication using the abave numpy arrays\n",
    "            products_of_arrays = int_splt_String_Array * Varif_13_Array\n",
    "            sum_of_products = products_of_arrays.sum()\n",
    "            \n",
    "            # This part of the if-statement is the varification of the ISBN-13\n",
    "            if sum_of_products%10==0:\n",
    "                print(\"Sum of products =\",sum_of_products)\n",
    "                return \"Valid\"\n",
    "            # This else part of the if-statement is executed if the varification of the ISBN-13 fails\n",
    "            else:\n",
    "                print(\"Sum of products =\",sum_of_products)\n",
    "                return \"Invalid\"\n",
    "\n",
    "    # This is an else part of the nested outer if-statement that is executed when the ISBN has an inappropriate lenght    \n",
    "    else:\n",
    "         return \"Please enter a 10-digit or 13-digit ISBN\""
   ]
  },
  {
   "cell_type": "code",
   "execution_count": 27,
   "id": "b1194707-ba36-40ee-bfea-cc07cbedb767",
   "metadata": {},
   "outputs": [
    {
     "name": "stdin",
     "output_type": "stream",
     "text": [
      "Enter the ISBN: 0316066524\n"
     ]
    },
    {
     "name": "stdout",
     "output_type": "stream",
     "text": [
      "the new sum of products 53\n",
      "the new sum of products 54\n",
      "the new sum of products 55\n",
      "the new sum of products 56\n",
      "the new sum of products 57\n",
      "the new sum of products 58\n",
      "the new sum of products 59\n",
      "the new sum of products 60\n",
      "9780316066527\n"
     ]
    }
   ],
   "source": [
    "# The user-input step and the function call   \n",
    "ISBN = input(\"Enter the ISBN:\")\n",
    "print(isbn13(ISBN))"
   ]
  },
  {
   "cell_type": "code",
   "execution_count": null,
   "id": "4afbcaf8-bc52-4451-8d9a-7a8f9e5c3820",
   "metadata": {},
   "outputs": [],
   "source": []
  }
 ],
 "metadata": {
  "kernelspec": {
   "display_name": "Python 3 (ipykernel)",
   "language": "python",
   "name": "python3"
  },
  "language_info": {
   "codemirror_mode": {
    "name": "ipython",
    "version": 3
   },
   "file_extension": ".py",
   "mimetype": "text/x-python",
   "name": "python",
   "nbconvert_exporter": "python",
   "pygments_lexer": "ipython3",
   "version": "3.8.10"
  }
 },
 "nbformat": 4,
 "nbformat_minor": 5
}
